{
 "cells": [
  {
   "cell_type": "code",
   "execution_count": 232,
   "metadata": {},
   "outputs": [],
   "source": [
    "class Table:\n",
    "    def __init__(self, name, columns):\n",
    "        self.name = name\n",
    "        self.columns = columns\n",
    "        self.rows = [] # array of dictionaries\n",
    "\n",
    "    def add_row(self, row):\n",
    "        if isinstance(row, dict):\n",
    "            self.rows.append(row)\n",
    "        elif isinstance(row, list):\n",
    "            self.rows.append(dict(zip(self.columns, row)))\n",
    "        else:\n",
    "            raise TypeError(\"Invalid row type %s\" % type(row))\n",
    "\n",
    "    def __getitem__(self, key):\n",
    "        if isinstance(key, str):\n",
    "            return [row[key] for row in self.rows]\n",
    "        elif isinstance(key, int):\n",
    "            return self.rows[key]\n",
    "        else:\n",
    "            raise TypeError(\"Invalid key type %s\" % type(key))\n",
    "\n",
    "    def num_of_rows(self):\n",
    "        return len(self.rows)\n",
    "\n",
    "    def __str__(self):\n",
    "        header = \"Table(%s, %s)\" % (self.name, self.columns)\n",
    "        rows = \"\\n\".join([\"\\t\" + str(row) for row in self.rows])\n",
    "        return header + \"\\n\" + rows\n",
    "\n",
    "    def __eq__(self, other):\n",
    "        if isinstance(other, Table):\n",
    "            meta_same = self.name == other.name and self.columns == other.columns\n",
    "            if len(self.rows) != len(other.rows):\n",
    "                return False\n",
    "            rows1_sorted = sorted(self.rows, key=lambda row: tuple(row.values()))\n",
    "            rows2_sorted = sorted(other.rows, key=lambda row: tuple(row.values()))\n",
    "\n",
    "            for dict1, dict2 in zip(rows1_sorted, rows2_sorted):\n",
    "                if dict1 != dict2:\n",
    "                    return False\n",
    "            return True\n",
    "        else:\n",
    "            return False"
   ]
  },
  {
   "cell_type": "code",
   "execution_count": 233,
   "metadata": {},
   "outputs": [
    {
     "name": "stdout",
     "output_type": "stream",
     "text": [
      "True\n",
      "True\n",
      "True\n",
      "False\n"
     ]
    }
   ],
   "source": [
    "t1 = Table('t1', ['a', 'b', 'c'])\n",
    "t1.add_row([1, 2, 3])\n",
    "t1.add_row([4, 5, 6])\n",
    "\n",
    "t2 = Table('t1', ['a', 'b', 'c'])\n",
    "t2.add_row([1, 2, 3])\n",
    "t2.add_row([4, 5, 6])\n",
    "\n",
    "t3 = Table('t1', ['a', 'b', 'c'])\n",
    "t3.add_row([1, 2, 3])\n",
    "t3.add_row([4, 5, 7]) # <-- diff is here\n",
    "\n",
    "print(t1['a'] == [1, 4])\n",
    "print(t1[0] == {'a': 1, 'b': 2, 'c': 3})\n",
    "\n",
    "print(t1 == t2)\n",
    "print(t1 == t3)"
   ]
  },
  {
   "cell_type": "code",
   "execution_count": 273,
   "metadata": {},
   "outputs": [],
   "source": [
    "class JoinStats:\n",
    "    def __init__(self):\n",
    "        self.left_table_sizes_per_pu = []\n",
    "        self.right_table_sizes_per_pu = []\n",
    "        self.total_join_checks_per_pu = []\n",
    "        self.total_move_operations = 0\n",
    "\n",
    "    def show(self):\n",
    "        print(f\"Total move operations - {self.total_move_operations}\")\n",
    "\n",
    "        # plot per node stats (bar plot)\n",
    "        import matplotlib.pyplot as plt\n",
    "        import numpy as np\n",
    "\n",
    "        fig = plt.subplots(figsize =(12, 8))\n",
    "        nodes = np.arange(len(self.left_table_sizes_per_pu)) \n",
    "\n",
    "        bar_width = 0.2\n",
    "        bar_shift = 0.2\n",
    "        bar_space = 0.1\n",
    "\n",
    "        plt.bar(nodes, self.left_table_sizes_per_pu, label=\"left table sizes total\", width=bar_width)\n",
    "        plt.bar(nodes + bar_shift, self.right_table_sizes_per_pu, label=\"right table sizes total\", width=bar_width)\n",
    "        plt.bar(nodes + bar_shift * 2, self.total_join_checks_per_pu, label=\"total join checks\", width=bar_width)\n",
    "\n",
    "        plt.xticks(nodes + bar_width + bar_space, nodes)  # Adjust x-axis tick positions\n",
    "        plt.title(\"Spool stats per PU\")\n",
    "\n",
    "        plt.legend()\n"
   ]
  },
  {
   "cell_type": "code",
   "execution_count": 274,
   "metadata": {},
   "outputs": [],
   "source": [
    "class PU:\n",
    "    def __init__(self, pu_id):\n",
    "        self.hosted_tables = []\n",
    "        self.pu_id = pu_id\n",
    "\n",
    "    def add_table(self, table):\n",
    "        if table.name not in [t.name for t in self.hosted_tables]:\n",
    "            self.hosted_tables.append(table)\n",
    "        else:\n",
    "            raise ValueError(\"Table %s already exists\" % table.name)\n",
    "\n",
    "    def __getitem__(self, key):\n",
    "        if isinstance(key, str):\n",
    "            for table in self.hosted_tables:\n",
    "                if table.name == key:\n",
    "                    return table\n",
    "            raise KeyError(\"No table named %s\" % key)\n",
    "        else:\n",
    "            raise TypeError(\"Invalid key type %s\" % type(key))\n",
    "\n",
    "class Prpd:\n",
    "    def __init__(self, n_pus, hash):\n",
    "        self.pus = [PU(pu_id) for pu_id in range(n_pus)]\n",
    "        self.tables = []\n",
    "        self.hash = hash\n",
    "\n",
    "    def create_table(self, name, columns):\n",
    "        self.tables.append(Table(name, columns))\n",
    "\n",
    "    def __getitem__(self, key):\n",
    "        if isinstance(key, str):\n",
    "            for table in self.tables:\n",
    "                if table.name == key:\n",
    "                    return table\n",
    "            raise KeyError(\"No table named %s\" % key)\n",
    "        else:\n",
    "            raise TypeError(\"Invalid key type %s\" % type(key))\n",
    "\n",
    "    def redistribute_table(self, table_name, key):\n",
    "        table = self[table_name]\n",
    "        # create table on every PU\n",
    "        for pu in self.pus:\n",
    "            pu.add_table(Table(table.name, table.columns))\n",
    "\n",
    "        for row in table.rows:\n",
    "            idx_pu = self.hash(row[key])\n",
    "            self.pus[idx_pu][table_name].add_row(row)\n",
    "\n",
    "    def clear_temp_tables(self):\n",
    "        suffix_to_remove = [\"_redis\", \"_result\", \"_dup\", \"_loc\"]\n",
    "        for pu in self.pus:\n",
    "            pu.hosted_tables = [t for t in pu.hosted_tables if not any([t.name.endswith(suffix) for suffix in suffix_to_remove])]\n",
    "\n",
    "    def join_redistribute(self, left_table_name, left_key, right_table_name, right_key):\n",
    "        join_stats = JoinStats()\n",
    "        left_table = self[left_table_name]\n",
    "        right_table = self[right_table_name]\n",
    "        # create table on every PU\n",
    "        for pu in self.pus:\n",
    "            pu.add_table(Table(left_table.name + \"_redis\", left_table.columns))\n",
    "            pu.add_table(Table(right_table.name + \"_redis\", right_table.columns))\n",
    "            pu.add_table(Table(\"join_result\", left_table.columns + right_table.columns))\n",
    "\n",
    "        # redistribute tables\n",
    "        for pu in self.pus:\n",
    "            for row in pu[left_table_name].rows:\n",
    "                idx_pu = self.hash(row[left_key])\n",
    "                self.pus[idx_pu][left_table_name + \"_redis\"].add_row(row)\n",
    "                if (pu.pu_id != idx_pu):\n",
    "                    join_stats.total_move_operations += 1\n",
    "\n",
    "            for row in pu[right_table_name].rows:\n",
    "                idx_pu = self.hash(row[right_key])\n",
    "                self.pus[idx_pu][right_table_name + \"_redis\"].add_row(row)\n",
    "                if (pu.pu_id != idx_pu):\n",
    "                    join_stats.total_move_operations += 1\n",
    "\n",
    "        # join redistributions\n",
    "        for pu in self.pus:\n",
    "            left_table_redis = pu[left_table_name + \"_redis\"]\n",
    "            right_table_redis = pu[right_table_name + \"_redis\"]\n",
    "\n",
    "            # add join stats\n",
    "            join_stats.left_table_sizes_per_pu.append(left_table_redis.num_of_rows())\n",
    "            join_stats.right_table_sizes_per_pu.append(right_table_redis.num_of_rows())\n",
    "\n",
    "            # naive join, but check sizes.\n",
    "            total_join_checks = 0\n",
    "            for left_row in left_table_redis.rows:\n",
    "                for right_row in right_table_redis.rows:\n",
    "                    total_join_checks += 1\n",
    "                    if left_row[left_key] == right_row[right_key]:\n",
    "                        # merge rows\n",
    "                        pu[\"join_result\"].add_row({**left_row, **right_row})\n",
    "            join_stats.total_join_checks_per_pu.append(total_join_checks)\n",
    "\n",
    "        end_result = Table(\"join_result\", left_table.columns + right_table.columns)\n",
    "        for pu in self.pus:\n",
    "            end_result.rows += pu[\"join_result\"].rows\n",
    "        self.clear_temp_tables()\n",
    "        return (end_result, join_stats)\n",
    "\n",
    "    def join_duplicate(self, left_table_name, left_key, right_table_name, right_key):\n",
    "        # right table will be duplicated\n",
    "        left_table = self[left_table_name]\n",
    "        right_table = self[right_table_name]\n",
    "\n",
    "        join_stats = JoinStats()\n",
    "        # create table on every PU\n",
    "        for pu in self.pus:\n",
    "            pu.add_table(Table(right_table.name + \"_dup\", right_table.columns))\n",
    "            pu.add_table(Table(\"join_result\", left_table.columns + right_table.columns))\n",
    "        # duplicate right\n",
    "        for pu_source in self.pus:\n",
    "            for row in pu_source[right_table_name].rows:\n",
    "                for pu_target in self.pus:\n",
    "                    pu_target[right_table_name + \"_dup\"].add_row(row)\n",
    "                    if (pu_source.pu_id != pu_target.pu_id):\n",
    "                        join_stats.total_move_operations += 1\n",
    "        # join\n",
    "        for pu in self.pus:\n",
    "            left_table_redis = pu[left_table_name]\n",
    "            right_table_redis = pu[right_table_name + \"_dup\"]\n",
    "            join_stats.left_table_sizes_per_pu.append(left_table_redis.num_of_rows())\n",
    "            join_stats.right_table_sizes_per_pu.append(right_table_redis.num_of_rows())\n",
    "\n",
    "            total_join_checks = 0\n",
    "            for left_row in left_table_redis.rows:\n",
    "                for right_row in right_table_redis.rows:\n",
    "                    total_join_checks += 1\n",
    "                    if left_row[left_key] == right_row[right_key]:\n",
    "                        # merge rows\n",
    "                        pu[\"join_result\"].add_row({**left_row, **right_row})\n",
    "            join_stats.total_join_checks_per_pu.append(total_join_checks)\n",
    "\n",
    "        end_result = Table(\"join_result\", left_table.columns + right_table.columns)\n",
    "        for pu in self.pus:\n",
    "            end_result.rows += pu[\"join_result\"].rows\n",
    "        self.clear_temp_tables()\n",
    "        return (end_result, join_stats)\n",
    "\n",
    "    def join_prpd(self, left_table_name, left_key, right_table_name, right_key, L1, L2):\n",
    "        left_table = self[left_table_name]\n",
    "        right_table = self[right_table_name]\n",
    "\n",
    "        join_stats = JoinStats()\n",
    "        # create tables on every PU\n",
    "        for pu in self.pus:\n",
    "            pu.add_table(Table(right_table.name + \"_dup\", right_table.columns))\n",
    "            pu.add_table(Table(left_table.name + \"_dup\", left_table.columns))\n",
    "            pu.add_table(Table(right_table.name + \"_redis\", right_table.columns))\n",
    "            pu.add_table(Table(left_table.name + \"_redis\", left_table.columns))\n",
    "            pu.add_table(Table(right_table.name + \"_loc\", right_table.columns))\n",
    "            pu.add_table(Table(left_table.name + \"_loc\", left_table.columns))\n",
    "            pu.add_table(Table(\"join_result\", left_table.columns + right_table.columns))\n",
    "\n",
    "        for pu in self.pus:\n",
    "            for row in pu[left_table_name].rows:\n",
    "                if row[left_key] in L1:\n",
    "                    # keep it local\n",
    "                    pu[left_table_name + \"_loc\"].add_row(row)\n",
    "                elif row[left_key] in L2:\n",
    "                    # duplicate everywhere\n",
    "                    for pu_target in self.pus:\n",
    "                        pu_target[left_table_name + \"_dup\"].add_row(row)\n",
    "                        if pu.pu_id != pu_target.pu_id:\n",
    "                            join_stats.total_move_operations += 1\n",
    "                else:\n",
    "                    # redistribute\n",
    "                    idx_pu = self.hash(row[left_key])\n",
    "                    self.pus[idx_pu][left_table_name + \"_redis\"].add_row(row)\n",
    "                    if pu.pu_id != idx_pu:\n",
    "                        join_stats.total_move_operations += 1\n",
    "            for row in pu[right_table_name].rows:\n",
    "                if row[right_key] in L2:\n",
    "                    # keep it local\n",
    "                    pu[right_table_name + \"_loc\"].add_row(row)\n",
    "                elif row[right_key] in L1:\n",
    "                    # duplicate everywhere\n",
    "                    for pu_target in self.pus:\n",
    "                        pu_target[right_table_name + \"_dup\"].add_row(row)\n",
    "                        if pu.pu_id != pu_target.pu_id:\n",
    "                            join_stats.total_move_operations += 1\n",
    "                else:\n",
    "                    # redistribute\n",
    "                    idx_pu = self.hash(row[right_key])\n",
    "                    self.pus[idx_pu][right_table_name + \"_redis\"].add_row(row)\n",
    "                    if pu.pu_id != idx_pu:\n",
    "                        join_stats.total_move_operations += 1\n",
    "        # actual join\n",
    "        # lredis x rredis U lloc x rdup U ldup x rloc\n",
    "        for pu in self.pus:\n",
    "            join_pairs = [(pu[left_table_name + \"_redis\"], pu[right_table_name + \"_redis\"]),\n",
    "                          (pu[left_table_name + \"_loc\"], pu[right_table_name + \"_dup\"]),\n",
    "                          (pu[left_table_name + \"_dup\"], pu[right_table_name + \"_loc\"])]\n",
    "            join_stats.left_table_sizes_per_pu.append(join_pairs[0][0].num_of_rows() + join_pairs[1][0].num_of_rows() + join_pairs[2][0].num_of_rows())\n",
    "            join_stats.right_table_sizes_per_pu.append(join_pairs[0][1].num_of_rows() + join_pairs[1][1].num_of_rows() + join_pairs[2][1].num_of_rows())\n",
    "            total_join_checks = 0\n",
    "            for (left_table, right_table) in join_pairs:\n",
    "                for left_row in left_table.rows:\n",
    "                    for right_row in right_table.rows:\n",
    "                        total_join_checks += 1\n",
    "                        if left_row[left_key] == right_row[right_key]:\n",
    "                            # merge rows\n",
    "                            pu[\"join_result\"].add_row({**left_row, **right_row})\n",
    "            join_stats.total_join_checks_per_pu.append(total_join_checks)\n",
    "\n",
    "        end_result = Table(\"join_result\", left_table.columns + right_table.columns)\n",
    "        for pu in self.pus:\n",
    "            end_result.rows += pu[\"join_result\"].rows\n",
    "        self.clear_temp_tables()\n",
    "        return (end_result, join_stats)"
   ]
  },
  {
   "cell_type": "code",
   "execution_count": 275,
   "metadata": {},
   "outputs": [],
   "source": [
    "prpd = Prpd(3, lambda x: x % 3)\n",
    "prpd.create_table('R', ['x', 'a'])\n",
    "prpd['R'].add_row([3, 1])\n",
    "prpd['R'].add_row([6, 2])\n",
    "prpd['R'].add_row([9, 7])\n",
    "prpd['R'].add_row([12, 1])\n",
    "prpd['R'].add_row([1, 2])\n",
    "prpd['R'].add_row([4, 1])\n",
    "prpd['R'].add_row([7, 3])\n",
    "prpd['R'].add_row([7, 1])\n",
    "prpd['R'].add_row([2, 4])\n",
    "prpd['R'].add_row([5, 1])\n",
    "prpd['R'].add_row([5, 6])\n",
    "prpd['R'].add_row([8, 1])\n",
    "prpd.redistribute_table('R', 'x')\n",
    "\n",
    "prpd.create_table('S', ['y', 'b'])\n",
    "prpd['S'].add_row([2, 2])\n",
    "prpd['S'].add_row([8, 2])\n",
    "prpd['S'].add_row([8, 3])\n",
    "prpd['S'].add_row([11, 6])\n",
    "prpd['S'].add_row([1, 1])\n",
    "prpd['S'].add_row([4, 2])\n",
    "prpd['S'].add_row([4, 8])\n",
    "prpd['S'].add_row([10, 2])\n",
    "prpd['S'].add_row([0, 5])\n",
    "prpd['S'].add_row([0, 1])\n",
    "prpd['S'].add_row([3, 2])\n",
    "prpd['S'].add_row([6, 2])\n",
    "prpd.redistribute_table('S', 'y')"
   ]
  },
  {
   "cell_type": "code",
   "execution_count": 276,
   "metadata": {},
   "outputs": [
    {
     "name": "stdout",
     "output_type": "stream",
     "text": [
      "node 0:\n",
      "Table(R, ['x', 'a'])\n",
      "\t{'x': 3, 'a': 1}\n",
      "\t{'x': 6, 'a': 2}\n",
      "\t{'x': 9, 'a': 7}\n",
      "\t{'x': 12, 'a': 1}\n",
      "Table(S, ['y', 'b'])\n",
      "\t{'y': 0, 'b': 5}\n",
      "\t{'y': 0, 'b': 1}\n",
      "\t{'y': 3, 'b': 2}\n",
      "\t{'y': 6, 'b': 2}\n",
      "node 1:\n",
      "Table(R, ['x', 'a'])\n",
      "\t{'x': 1, 'a': 2}\n",
      "\t{'x': 4, 'a': 1}\n",
      "\t{'x': 7, 'a': 3}\n",
      "\t{'x': 7, 'a': 1}\n",
      "Table(S, ['y', 'b'])\n",
      "\t{'y': 1, 'b': 1}\n",
      "\t{'y': 4, 'b': 2}\n",
      "\t{'y': 4, 'b': 8}\n",
      "\t{'y': 10, 'b': 2}\n",
      "node 2:\n",
      "Table(R, ['x', 'a'])\n",
      "\t{'x': 2, 'a': 4}\n",
      "\t{'x': 5, 'a': 1}\n",
      "\t{'x': 5, 'a': 6}\n",
      "\t{'x': 8, 'a': 1}\n",
      "Table(S, ['y', 'b'])\n",
      "\t{'y': 2, 'b': 2}\n",
      "\t{'y': 8, 'b': 2}\n",
      "\t{'y': 8, 'b': 3}\n",
      "\t{'y': 11, 'b': 6}\n"
     ]
    }
   ],
   "source": [
    "print(\"node 0:\")\n",
    "print(prpd.pus[0]['R'])\n",
    "print(prpd.pus[0]['S'])\n",
    "print(\"node 1:\")\n",
    "print(prpd.pus[1]['R'])\n",
    "print(prpd.pus[1]['S'])\n",
    "print(\"node 2:\")\n",
    "print(prpd.pus[2]['R'])\n",
    "print(prpd.pus[2]['S'])"
   ]
  },
  {
   "cell_type": "code",
   "execution_count": 277,
   "metadata": {},
   "outputs": [],
   "source": [
    "redis_join_result, redis_stats = prpd.join_redistribute('R', 'a', 'S', 'b')\n",
    "prpd.clear_temp_tables()"
   ]
  },
  {
   "cell_type": "code",
   "execution_count": 278,
   "metadata": {},
   "outputs": [
    {
     "name": "stdout",
     "output_type": "stream",
     "text": [
      "Total move operations - 19\n"
     ]
    },
    {
     "data": {
      "image/png": "[encoded data removed]",
      "text/plain": [
       "<Figure size 864x576 with 1 Axes>"
      ]
     },
     "metadata": {
      "needs_background": "light"
     },
     "output_type": "display_data"
    }
   ],
   "source": [
    "redis_stats.show()"
   ]
  },
  {
   "cell_type": "code",
   "execution_count": 271,
   "metadata": {},
   "outputs": [],
   "source": [
    "dup_join_result, dup_join_stats = prpd.join_duplicate('R', 'a', 'S', 'b')"
   ]
  },
  {
   "cell_type": "code",
   "execution_count": 272,
   "metadata": {},
   "outputs": [
    {
     "name": "stdout",
     "output_type": "stream",
     "text": [
      "Total move operations - 24\n"
     ]
    },
    {
     "data": {
      "image/png": "[encoded data removed]",
      "text/plain": [
       "<Figure size 864x576 with 1 Axes>"
      ]
     },
     "metadata": {
      "needs_background": "light"
     },
     "output_type": "display_data"
    }
   ],
   "source": [
    "dup_join_stats.show()"
   ]
  },
  {
   "cell_type": "code",
   "execution_count": 210,
   "metadata": {},
   "outputs": [
    {
     "name": "stdout",
     "output_type": "stream",
     "text": [
      "Table(join_result, ['x', 'a', 'y', 'b'])\n",
      "\t{'x': 7, 'a': 3, 'y': 8, 'b': 3}\n",
      "\t{'x': 5, 'a': 6, 'y': 11, 'b': 6}\n",
      "\t{'x': 3, 'a': 1, 'y': 0, 'b': 1}\n",
      "\t{'x': 3, 'a': 1, 'y': 1, 'b': 1}\n",
      "\t{'x': 12, 'a': 1, 'y': 0, 'b': 1}\n",
      "\t{'x': 12, 'a': 1, 'y': 1, 'b': 1}\n",
      "\t{'x': 4, 'a': 1, 'y': 0, 'b': 1}\n",
      "\t{'x': 4, 'a': 1, 'y': 1, 'b': 1}\n",
      "\t{'x': 7, 'a': 1, 'y': 0, 'b': 1}\n",
      "\t{'x': 7, 'a': 1, 'y': 1, 'b': 1}\n",
      "\t{'x': 5, 'a': 1, 'y': 0, 'b': 1}\n",
      "\t{'x': 5, 'a': 1, 'y': 1, 'b': 1}\n",
      "\t{'x': 8, 'a': 1, 'y': 0, 'b': 1}\n",
      "\t{'x': 8, 'a': 1, 'y': 1, 'b': 1}\n",
      "\t{'x': 6, 'a': 2, 'y': 3, 'b': 2}\n",
      "\t{'x': 6, 'a': 2, 'y': 6, 'b': 2}\n",
      "\t{'x': 6, 'a': 2, 'y': 4, 'b': 2}\n",
      "\t{'x': 6, 'a': 2, 'y': 10, 'b': 2}\n",
      "\t{'x': 6, 'a': 2, 'y': 2, 'b': 2}\n",
      "\t{'x': 6, 'a': 2, 'y': 8, 'b': 2}\n",
      "\t{'x': 1, 'a': 2, 'y': 3, 'b': 2}\n",
      "\t{'x': 1, 'a': 2, 'y': 6, 'b': 2}\n",
      "\t{'x': 1, 'a': 2, 'y': 4, 'b': 2}\n",
      "\t{'x': 1, 'a': 2, 'y': 10, 'b': 2}\n",
      "\t{'x': 1, 'a': 2, 'y': 2, 'b': 2}\n",
      "\t{'x': 1, 'a': 2, 'y': 8, 'b': 2}\n",
      "Table(join_result, ['x', 'a', 'y', 'b'])\n",
      "\t{'x': 3, 'a': 1, 'y': 0, 'b': 1}\n",
      "\t{'x': 3, 'a': 1, 'y': 1, 'b': 1}\n",
      "\t{'x': 6, 'a': 2, 'y': 3, 'b': 2}\n",
      "\t{'x': 6, 'a': 2, 'y': 6, 'b': 2}\n",
      "\t{'x': 6, 'a': 2, 'y': 4, 'b': 2}\n",
      "\t{'x': 6, 'a': 2, 'y': 10, 'b': 2}\n",
      "\t{'x': 6, 'a': 2, 'y': 2, 'b': 2}\n",
      "\t{'x': 6, 'a': 2, 'y': 8, 'b': 2}\n",
      "\t{'x': 12, 'a': 1, 'y': 0, 'b': 1}\n",
      "\t{'x': 12, 'a': 1, 'y': 1, 'b': 1}\n",
      "\t{'x': 1, 'a': 2, 'y': 3, 'b': 2}\n",
      "\t{'x': 1, 'a': 2, 'y': 6, 'b': 2}\n",
      "\t{'x': 1, 'a': 2, 'y': 4, 'b': 2}\n",
      "\t{'x': 1, 'a': 2, 'y': 10, 'b': 2}\n",
      "\t{'x': 1, 'a': 2, 'y': 2, 'b': 2}\n",
      "\t{'x': 1, 'a': 2, 'y': 8, 'b': 2}\n",
      "\t{'x': 4, 'a': 1, 'y': 0, 'b': 1}\n",
      "\t{'x': 4, 'a': 1, 'y': 1, 'b': 1}\n",
      "\t{'x': 7, 'a': 3, 'y': 8, 'b': 3}\n",
      "\t{'x': 7, 'a': 1, 'y': 0, 'b': 1}\n",
      "\t{'x': 7, 'a': 1, 'y': 1, 'b': 1}\n",
      "\t{'x': 5, 'a': 1, 'y': 0, 'b': 1}\n",
      "\t{'x': 5, 'a': 1, 'y': 1, 'b': 1}\n",
      "\t{'x': 5, 'a': 6, 'y': 11, 'b': 6}\n",
      "\t{'x': 8, 'a': 1, 'y': 0, 'b': 1}\n",
      "\t{'x': 8, 'a': 1, 'y': 1, 'b': 1}\n"
     ]
    }
   ],
   "source": [
    "print(redis_join_result)\n",
    "print(dup_join_result)"
   ]
  },
  {
   "cell_type": "code",
   "execution_count": 211,
   "metadata": {},
   "outputs": [
    {
     "data": {
      "text/plain": [
       "True"
      ]
     },
     "execution_count": 211,
     "metadata": {},
     "output_type": "execute_result"
    }
   ],
   "source": [
    "redis_join_result == dup_join_result"
   ]
  },
  {
   "cell_type": "code",
   "execution_count": 217,
   "metadata": {},
   "outputs": [],
   "source": [
    "# hardcoding L1 and L2.\n",
    "L1 = set([1])\n",
    "L2 = set([2])\n",
    "prpd_join_result, prpd_join_stats = prpd.join_prpd('R', 'a', 'S', 'b', L1, L2)"
   ]
  },
  {
   "cell_type": "code",
   "execution_count": 219,
   "metadata": {},
   "outputs": [
    {
     "data": {
      "text/plain": [
       "True"
      ]
     },
     "execution_count": 219,
     "metadata": {},
     "output_type": "execute_result"
    }
   ],
   "source": [
    "# verify result correctness\n",
    "redis_join_result == prpd_join_result"
   ]
  },
  {
   "cell_type": "code",
   "execution_count": 220,
   "metadata": {},
   "outputs": [
    {
     "name": "stdout",
     "output_type": "stream",
     "text": [
      "Total move operations - 16\n"
     ]
    },
    {
     "data": {
      "image/png": "[encoded data removed]",
      "text/plain": [
       "<Figure size 864x576 with 1 Axes>"
      ]
     },
     "metadata": {
      "needs_background": "light"
     },
     "output_type": "display_data"
    }
   ],
   "source": [
    "prpd_join_stats.show()"
   ]
  }
 ],
 "metadata": {
  "kernelspec": {
   "display_name": "Python 3",
   "language": "python",
   "name": "python3"
  },
  "language_info": {
   "codemirror_mode": {
    "name": "ipython",
    "version": 3
   },
   "file_extension": ".py",
   "mimetype": "text/x-python",
   "name": "python",
   "nbconvert_exporter": "python",
   "pygments_lexer": "ipython3",
   "version": "3.8.10"
  },
  "orig_nbformat": 4
 },
 "nbformat": 4,
 "nbformat_minor": 2
}
